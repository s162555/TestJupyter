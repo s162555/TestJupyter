{
 "cells": [
  {
   "cell_type": "markdown",
   "metadata": {},
   "source": [
    "This is the Python code of Example 3.5 in the book:\n",
    "\n",
    "FIBER-REINFORCED COMPOSITES\n",
    "Materials, Manufacturing, and Design\n",
    "\n",
    "by: P.K. Mallick (2008) by Taylor & Francis Group, LLC\n",
    "\n",
    "This code:\n",
    "(C) Joris Remmers (2013-2019)"
   ]
  },
  {
   "cell_type": "markdown",
   "metadata": {},
   "source": [
    "## Example 3.5\n",
    "\n",
    "A thin plate is subjected to a biaxial stress field of $\\sigma_{xx}=1\\,$GPa and $\\sigma_{yy}=0.5\\,$GPa. Calculate the strains in the xy directions if the plate is made of (a) steel, (b) a $0^{\\circ}$ unidirectional boron–epoxy composite, and (c) a $45^{\\circ}$ unidirectional boron–epoxy composite."
   ]
  },
  {
   "cell_type": "markdown",
   "metadata": {},
   "source": [
    "## Solution\n",
    "\n",
    "Import the correct functions from the composite module:"
   ]
  },
  {
   "cell_type": "code",
   "execution_count": 1,
   "metadata": {},
   "outputs": [],
   "source": [
    "from composite import TransverseIsotropic\n",
    "from numpy     import array,dot"
   ]
  },
  {
   "cell_type": "markdown",
   "metadata": {},
   "source": [
    "Steel may be considered as an isotropic material with Young's modulus $E=207\\,$GPa and Poisson's ratio $\\nu=0.33$. Please not that this can be modelled as a transversely Isotropic material, with only a single Young's modulus."
   ]
  },
  {
   "cell_type": "code",
   "execution_count": 2,
   "metadata": {},
   "outputs": [
    {
     "name": "stdout",
     "output_type": "stream",
     "text": [
      "  Elastic Properties:\n",
      "  -----------------------------------------------------------\n",
      "  E1     :     2.070e+11 , E2     :     2.070e+11 \n",
      "  nu12   :          0.33 , G12    :     1.000e+00 \n",
      "\n",
      "  Thermal expansion coefficients:\n",
      "  -----------------------------------------------------------\n",
      "  alpha1 :     0.000e+00 , alpha2 :     0.000e+00 \n",
      "\n"
     ]
    }
   ],
   "source": [
    "steel      = TransverseIsotropic( 207e9,0.33,1.0)\n",
    "print(steel)"
   ]
  },
  {
   "cell_type": "markdown",
   "metadata": {},
   "source": [
    "Boron Epoxy is a composite material with a Young's modulus $E_1=207\\,$GPa; $E_2=19\\,$GPa; a Poisson's ratio $\\nu_{12}=0.21$ and a shear modulus $G_{12}=6.4\\,$GPa. The two elastic moduli are entered as a list."
   ]
  },
  {
   "cell_type": "code",
   "execution_count": 3,
   "metadata": {},
   "outputs": [
    {
     "name": "stdout",
     "output_type": "stream",
     "text": [
      "  Elastic Properties:\n",
      "  -----------------------------------------------------------\n",
      "  E1     :     2.070e+11 , E2     :     1.900e+10 \n",
      "  nu12   :          0.21 , G12    :     6.400e+09 \n",
      "\n",
      "  Thermal expansion coefficients:\n",
      "  -----------------------------------------------------------\n",
      "  alpha1 :     0.000e+00 , alpha2 :     0.000e+00 \n",
      "\n"
     ]
    }
   ],
   "source": [
    "boronEpoxy = TransverseIsotropic( [207e9,19e9],0.21,6.4e9)\n",
    "print(boronEpoxy)"
   ]
  },
  {
   "cell_type": "markdown",
   "metadata": {},
   "source": [
    "The applied stress is introduced as a numpy array:"
   ]
  },
  {
   "cell_type": "code",
   "execution_count": 4,
   "metadata": {},
   "outputs": [
    {
     "data": {
      "text/plain": [
       "array([1.e+09, 5.e+08, 0.e+00])"
      ]
     },
     "execution_count": 4,
     "metadata": {},
     "output_type": "execute_result"
    }
   ],
   "source": [
    "stress = array([ 1.e9 , 0.5e9 , 0.0 ])\n",
    "stress"
   ]
  },
  {
   "cell_type": "markdown",
   "metadata": {},
   "source": [
    "a) The strain in the steel plate is:"
   ]
  },
  {
   "cell_type": "code",
   "execution_count": 5,
   "metadata": {},
   "outputs": [
    {
     "name": "stdout",
     "output_type": "stream",
     "text": [
      "The strain in the steel is               :  [0.00403382 0.00082126 0.        ] \n",
      "\n"
     ]
    }
   ],
   "source": [
    "strain = dot( steel.getS() , stress )\n",
    "print(\"The strain in the steel is               : \",strain,'\\n')"
   ]
  },
  {
   "cell_type": "markdown",
   "metadata": {},
   "source": [
    "b) The strain in the $0^{\\circ}$ unidirectional boron–epoxy composite is:"
   ]
  },
  {
   "cell_type": "code",
   "execution_count": 6,
   "metadata": {},
   "outputs": [
    {
     "name": "stdout",
     "output_type": "stream",
     "text": [
      "The strain in the 0 deg. boron-epoxy is  :  [0.00432367 0.0253013  0.        ] \n",
      "\n"
     ]
    }
   ],
   "source": [
    "strain = dot( boronEpoxy.getS() , stress )\n",
    "print(\"The strain in the 0 deg. boron-epoxy is  : \",strain,'\\n')"
   ]
  },
  {
   "cell_type": "markdown",
   "metadata": {},
   "source": [
    "c) The strain in the $45^{\\circ}$ unidirectional boron–epoxy composite is:"
   ]
  },
  {
   "cell_type": "code",
   "execution_count": 7,
   "metadata": {},
   "outputs": [
    {
     "name": "stdout",
     "output_type": "stream",
     "text": [
      "The strain in the 45 deg. boron-epoxy is :  [ 0.04031882  0.00125632 -0.0358505 ] \n",
      "\n"
     ]
    }
   ],
   "source": [
    "strain = dot( boronEpoxy.getSbar(45.) , stress )\n",
    "print(\"The strain in the 45 deg. boron-epoxy is : \",strain,'\\n')"
   ]
  },
  {
   "cell_type": "code",
   "execution_count": null,
   "metadata": {},
   "outputs": [],
   "source": []
  },
  {
   "cell_type": "code",
   "execution_count": null,
   "metadata": {},
   "outputs": [],
   "source": []
  },
  {
   "cell_type": "code",
   "execution_count": null,
   "metadata": {},
   "outputs": [],
   "source": []
  }
 ],
 "metadata": {
  "kernelspec": {
   "display_name": "Python 3",
   "language": "python",
   "name": "python3"
  },
  "language_info": {
   "codemirror_mode": {
    "name": "ipython",
    "version": 3
   },
   "file_extension": ".py",
   "mimetype": "text/x-python",
   "name": "python",
   "nbconvert_exporter": "python",
   "pygments_lexer": "ipython3",
   "version": "3.7.3"
  }
 },
 "nbformat": 4,
 "nbformat_minor": 2
}
